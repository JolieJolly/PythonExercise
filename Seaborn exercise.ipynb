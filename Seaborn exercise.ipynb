{
 "cells": [
  {
   "cell_type": "markdown",
   "metadata": {
    "deletable": false
   },
   "source": [
    "# UFCFVQ-15-M Programming for Data Science (Spring 2022)\n",
    "# Programming Task 2\n",
    "\n",
    "## Student Id: "
   ]
  },
  {
   "cell_type": "markdown",
   "metadata": {
    "deletable": false
   },
   "source": [
    "### Requirement FR9 - Read CSV data from two files and merge it into a single Data Frame "
   ]
  },
  {
   "cell_type": "code",
   "execution_count": 9,
   "metadata": {},
   "outputs": [
    {
     "data": {
      "text/html": [
       "<div>\n",
       "<style scoped>\n",
       "    .dataframe tbody tr th:only-of-type {\n",
       "        vertical-align: middle;\n",
       "    }\n",
       "\n",
       "    .dataframe tbody tr th {\n",
       "        vertical-align: top;\n",
       "    }\n",
       "\n",
       "    .dataframe thead th {\n",
       "        text-align: right;\n",
       "    }\n",
       "</style>\n",
       "<table border=\"1\" class=\"dataframe\">\n",
       "  <thead>\n",
       "    <tr style=\"text-align: right;\">\n",
       "      <th></th>\n",
       "      <th>timestamp</th>\n",
       "      <th>new_bike_shares</th>\n",
       "      <th>temperature</th>\n",
       "      <th>feels_like_temp</th>\n",
       "      <th>humidity</th>\n",
       "      <th>wind_speed</th>\n",
       "      <th>is_weekend</th>\n",
       "      <th>season_code</th>\n",
       "    </tr>\n",
       "  </thead>\n",
       "  <tbody>\n",
       "    <tr>\n",
       "      <th>0</th>\n",
       "      <td>04/01/2015 00:00</td>\n",
       "      <td>182</td>\n",
       "      <td>3.0</td>\n",
       "      <td>2.0</td>\n",
       "      <td>93.0</td>\n",
       "      <td>6.0</td>\n",
       "      <td>1</td>\n",
       "      <td>3</td>\n",
       "    </tr>\n",
       "    <tr>\n",
       "      <th>1</th>\n",
       "      <td>04/01/2015 01:00</td>\n",
       "      <td>138</td>\n",
       "      <td>3.0</td>\n",
       "      <td>2.5</td>\n",
       "      <td>93.0</td>\n",
       "      <td>5.0</td>\n",
       "      <td>1</td>\n",
       "      <td>3</td>\n",
       "    </tr>\n",
       "    <tr>\n",
       "      <th>2</th>\n",
       "      <td>04/01/2015 02:00</td>\n",
       "      <td>134</td>\n",
       "      <td>2.5</td>\n",
       "      <td>2.5</td>\n",
       "      <td>96.5</td>\n",
       "      <td>0.0</td>\n",
       "      <td>1</td>\n",
       "      <td>3</td>\n",
       "    </tr>\n",
       "    <tr>\n",
       "      <th>3</th>\n",
       "      <td>04/01/2015 03:00</td>\n",
       "      <td>72</td>\n",
       "      <td>2.0</td>\n",
       "      <td>2.0</td>\n",
       "      <td>100.0</td>\n",
       "      <td>0.0</td>\n",
       "      <td>1</td>\n",
       "      <td>3</td>\n",
       "    </tr>\n",
       "    <tr>\n",
       "      <th>4</th>\n",
       "      <td>04/01/2015 04:00</td>\n",
       "      <td>47</td>\n",
       "      <td>2.0</td>\n",
       "      <td>0.0</td>\n",
       "      <td>93.0</td>\n",
       "      <td>6.5</td>\n",
       "      <td>1</td>\n",
       "      <td>3</td>\n",
       "    </tr>\n",
       "    <tr>\n",
       "      <th>...</th>\n",
       "      <td>...</td>\n",
       "      <td>...</td>\n",
       "      <td>...</td>\n",
       "      <td>...</td>\n",
       "      <td>...</td>\n",
       "      <td>...</td>\n",
       "      <td>...</td>\n",
       "      <td>...</td>\n",
       "    </tr>\n",
       "    <tr>\n",
       "      <th>17409</th>\n",
       "      <td>03/01/2017 19:00</td>\n",
       "      <td>1042</td>\n",
       "      <td>5.0</td>\n",
       "      <td>1.0</td>\n",
       "      <td>81.0</td>\n",
       "      <td>19.0</td>\n",
       "      <td>0</td>\n",
       "      <td>3</td>\n",
       "    </tr>\n",
       "    <tr>\n",
       "      <th>17410</th>\n",
       "      <td>03/01/2017 20:00</td>\n",
       "      <td>541</td>\n",
       "      <td>5.0</td>\n",
       "      <td>1.0</td>\n",
       "      <td>81.0</td>\n",
       "      <td>21.0</td>\n",
       "      <td>0</td>\n",
       "      <td>3</td>\n",
       "    </tr>\n",
       "    <tr>\n",
       "      <th>17411</th>\n",
       "      <td>03/01/2017 21:00</td>\n",
       "      <td>337</td>\n",
       "      <td>5.5</td>\n",
       "      <td>1.5</td>\n",
       "      <td>78.5</td>\n",
       "      <td>24.0</td>\n",
       "      <td>0</td>\n",
       "      <td>3</td>\n",
       "    </tr>\n",
       "    <tr>\n",
       "      <th>17412</th>\n",
       "      <td>03/01/2017 22:00</td>\n",
       "      <td>224</td>\n",
       "      <td>5.5</td>\n",
       "      <td>1.5</td>\n",
       "      <td>76.0</td>\n",
       "      <td>23.0</td>\n",
       "      <td>0</td>\n",
       "      <td>3</td>\n",
       "    </tr>\n",
       "    <tr>\n",
       "      <th>17413</th>\n",
       "      <td>03/01/2017 23:00</td>\n",
       "      <td>139</td>\n",
       "      <td>5.0</td>\n",
       "      <td>1.0</td>\n",
       "      <td>76.0</td>\n",
       "      <td>22.0</td>\n",
       "      <td>0</td>\n",
       "      <td>3</td>\n",
       "    </tr>\n",
       "  </tbody>\n",
       "</table>\n",
       "<p>17414 rows × 8 columns</p>\n",
       "</div>"
      ],
      "text/plain": [
       "              timestamp  new_bike_shares  temperature  feels_like_temp  \\\n",
       "0      04/01/2015 00:00              182          3.0              2.0   \n",
       "1      04/01/2015 01:00              138          3.0              2.5   \n",
       "2      04/01/2015 02:00              134          2.5              2.5   \n",
       "3      04/01/2015 03:00               72          2.0              2.0   \n",
       "4      04/01/2015 04:00               47          2.0              0.0   \n",
       "...                 ...              ...          ...              ...   \n",
       "17409  03/01/2017 19:00             1042          5.0              1.0   \n",
       "17410  03/01/2017 20:00              541          5.0              1.0   \n",
       "17411  03/01/2017 21:00              337          5.5              1.5   \n",
       "17412  03/01/2017 22:00              224          5.5              1.5   \n",
       "17413  03/01/2017 23:00              139          5.0              1.0   \n",
       "\n",
       "       humidity  wind_speed  is_weekend  season_code  \n",
       "0          93.0         6.0           1            3  \n",
       "1          93.0         5.0           1            3  \n",
       "2          96.5         0.0           1            3  \n",
       "3         100.0         0.0           1            3  \n",
       "4          93.0         6.5           1            3  \n",
       "...         ...         ...         ...          ...  \n",
       "17409      81.0        19.0           0            3  \n",
       "17410      81.0        21.0           0            3  \n",
       "17411      78.5        24.0           0            3  \n",
       "17412      76.0        23.0           0            3  \n",
       "17413      76.0        22.0           0            3  \n",
       "\n",
       "[17414 rows x 8 columns]"
      ]
     },
     "execution_count": 9,
     "metadata": {},
     "output_type": "execute_result"
    }
   ],
   "source": [
    "# import pandas to read the the csv file using .read_csv function. The next things is to merge the  data and not \n",
    " \n",
    "import pandas as pd\n",
    "\n",
    "task2a_df = pd.read_csv('task2a.csv')   # Reads in the 2a data frame directly the way it is from memory\n",
    "task2a_df # loads the data frame\n",
    "\n",
    "task2b_df = pd.read_csv(\"task2b.csv\")   # Reads in the 2b data frame directly the way it is from memory\n",
    "task2b_df                               # loads the data frame\n",
    "\n",
    "task2merge_df = pd.merge(task2a_df, task2b_df,on=\"timestamp\")\n",
    "task2merge_df "
   ]
  },
  {
   "cell_type": "markdown",
   "metadata": {
    "deletable": false
   },
   "source": [
    "<p style=\"color:red; font-weight:bold; font-size:xx-small\">MARK: __%</p>\n",
    "<p style=\"color:red; font-weight:bold; font-size:xx-small\">FEEDBACK: </p>"
   ]
  },
  {
   "cell_type": "markdown",
   "metadata": {
    "deletable": false
   },
   "source": [
    "### Requirement FR10 - Clean the merged data"
   ]
  },
  {
   "cell_type": "code",
   "execution_count": 10,
   "metadata": {
    "tags": []
   },
   "outputs": [
    {
     "data": {
      "text/html": [
       "<div>\n",
       "<style scoped>\n",
       "    .dataframe tbody tr th:only-of-type {\n",
       "        vertical-align: middle;\n",
       "    }\n",
       "\n",
       "    .dataframe tbody tr th {\n",
       "        vertical-align: top;\n",
       "    }\n",
       "\n",
       "    .dataframe thead th {\n",
       "        text-align: right;\n",
       "    }\n",
       "</style>\n",
       "<table border=\"1\" class=\"dataframe\">\n",
       "  <thead>\n",
       "    <tr style=\"text-align: right;\">\n",
       "      <th></th>\n",
       "      <th>timestamp</th>\n",
       "      <th>new_bike_shares</th>\n",
       "      <th>temperature</th>\n",
       "      <th>feels_like_temp</th>\n",
       "      <th>humidity</th>\n",
       "      <th>wind_speed</th>\n",
       "      <th>is_weekend</th>\n",
       "    </tr>\n",
       "  </thead>\n",
       "  <tbody>\n",
       "    <tr>\n",
       "      <th>0</th>\n",
       "      <td>04/01/2015 00:00</td>\n",
       "      <td>182</td>\n",
       "      <td>3.0</td>\n",
       "      <td>2.0</td>\n",
       "      <td>93.0</td>\n",
       "      <td>6.0</td>\n",
       "      <td>1</td>\n",
       "    </tr>\n",
       "    <tr>\n",
       "      <th>1</th>\n",
       "      <td>04/01/2015 01:00</td>\n",
       "      <td>138</td>\n",
       "      <td>3.0</td>\n",
       "      <td>2.5</td>\n",
       "      <td>93.0</td>\n",
       "      <td>5.0</td>\n",
       "      <td>1</td>\n",
       "    </tr>\n",
       "    <tr>\n",
       "      <th>2</th>\n",
       "      <td>04/01/2015 02:00</td>\n",
       "      <td>134</td>\n",
       "      <td>2.5</td>\n",
       "      <td>2.5</td>\n",
       "      <td>96.5</td>\n",
       "      <td>0.0</td>\n",
       "      <td>1</td>\n",
       "    </tr>\n",
       "    <tr>\n",
       "      <th>3</th>\n",
       "      <td>04/01/2015 03:00</td>\n",
       "      <td>72</td>\n",
       "      <td>2.0</td>\n",
       "      <td>2.0</td>\n",
       "      <td>100.0</td>\n",
       "      <td>0.0</td>\n",
       "      <td>1</td>\n",
       "    </tr>\n",
       "    <tr>\n",
       "      <th>4</th>\n",
       "      <td>04/01/2015 04:00</td>\n",
       "      <td>47</td>\n",
       "      <td>2.0</td>\n",
       "      <td>0.0</td>\n",
       "      <td>93.0</td>\n",
       "      <td>6.5</td>\n",
       "      <td>1</td>\n",
       "    </tr>\n",
       "    <tr>\n",
       "      <th>...</th>\n",
       "      <td>...</td>\n",
       "      <td>...</td>\n",
       "      <td>...</td>\n",
       "      <td>...</td>\n",
       "      <td>...</td>\n",
       "      <td>...</td>\n",
       "      <td>...</td>\n",
       "    </tr>\n",
       "    <tr>\n",
       "      <th>17409</th>\n",
       "      <td>03/01/2017 19:00</td>\n",
       "      <td>1042</td>\n",
       "      <td>5.0</td>\n",
       "      <td>1.0</td>\n",
       "      <td>81.0</td>\n",
       "      <td>19.0</td>\n",
       "      <td>0</td>\n",
       "    </tr>\n",
       "    <tr>\n",
       "      <th>17410</th>\n",
       "      <td>03/01/2017 20:00</td>\n",
       "      <td>541</td>\n",
       "      <td>5.0</td>\n",
       "      <td>1.0</td>\n",
       "      <td>81.0</td>\n",
       "      <td>21.0</td>\n",
       "      <td>0</td>\n",
       "    </tr>\n",
       "    <tr>\n",
       "      <th>17411</th>\n",
       "      <td>03/01/2017 21:00</td>\n",
       "      <td>337</td>\n",
       "      <td>5.5</td>\n",
       "      <td>1.5</td>\n",
       "      <td>78.5</td>\n",
       "      <td>24.0</td>\n",
       "      <td>0</td>\n",
       "    </tr>\n",
       "    <tr>\n",
       "      <th>17412</th>\n",
       "      <td>03/01/2017 22:00</td>\n",
       "      <td>224</td>\n",
       "      <td>5.5</td>\n",
       "      <td>1.5</td>\n",
       "      <td>76.0</td>\n",
       "      <td>23.0</td>\n",
       "      <td>0</td>\n",
       "    </tr>\n",
       "    <tr>\n",
       "      <th>17413</th>\n",
       "      <td>03/01/2017 23:00</td>\n",
       "      <td>139</td>\n",
       "      <td>5.0</td>\n",
       "      <td>1.0</td>\n",
       "      <td>76.0</td>\n",
       "      <td>22.0</td>\n",
       "      <td>0</td>\n",
       "    </tr>\n",
       "  </tbody>\n",
       "</table>\n",
       "<p>17373 rows × 7 columns</p>\n",
       "</div>"
      ],
      "text/plain": [
       "              timestamp  new_bike_shares  temperature  feels_like_temp  \\\n",
       "0      04/01/2015 00:00              182          3.0              2.0   \n",
       "1      04/01/2015 01:00              138          3.0              2.5   \n",
       "2      04/01/2015 02:00              134          2.5              2.5   \n",
       "3      04/01/2015 03:00               72          2.0              2.0   \n",
       "4      04/01/2015 04:00               47          2.0              0.0   \n",
       "...                 ...              ...          ...              ...   \n",
       "17409  03/01/2017 19:00             1042          5.0              1.0   \n",
       "17410  03/01/2017 20:00              541          5.0              1.0   \n",
       "17411  03/01/2017 21:00              337          5.5              1.5   \n",
       "17412  03/01/2017 22:00              224          5.5              1.5   \n",
       "17413  03/01/2017 23:00              139          5.0              1.0   \n",
       "\n",
       "       humidity  wind_speed  is_weekend  \n",
       "0          93.0         6.0           1  \n",
       "1          93.0         5.0           1  \n",
       "2          96.5         0.0           1  \n",
       "3         100.0         0.0           1  \n",
       "4          93.0         6.5           1  \n",
       "...         ...         ...         ...  \n",
       "17409      81.0        19.0           0  \n",
       "17410      81.0        21.0           0  \n",
       "17411      78.5        24.0           0  \n",
       "17412      76.0        23.0           0  \n",
       "17413      76.0        22.0           0  \n",
       "\n",
       "[17373 rows x 7 columns]"
      ]
     },
     "execution_count": 10,
     "metadata": {},
     "output_type": "execute_result"
    }
   ],
   "source": [
    "# cleaning this data removes redundant columns like 'season_code' as well as irrelevant figures like numbers less than 2\n",
    "\n",
    "task2merge_df.isnull().sum()                  #gets the total number of null values in each columns \n",
    "\n",
    "task2merge_df=task2merge_df.dropna(how='any') #(How = any) means we didn't pass any argument in dropna() \n",
    "                                              #then it will delete all the rows with ANY NaN or missing value.\n",
    "    \n",
    "task2merge_df.dtypes                          #check the data type of all columns in the DataFrame\n",
    "\n",
    "task2merge_df= task2merge_df.drop(columns='season_code')        #removes/drops the specified columns like 'season_code'\n",
    "task2merge_df  \n",
    "\n",
    "#Remove all rows from the merged data whose new_bike_shares is less than 20 and \n",
    "#returns all the rows in the data frame where new_bike_shares is great or equal to 20\n",
    "\n",
    "task2merge_df= task2merge_df[task2merge_df.new_bike_shares>=20]     \n",
    "task2merge_df\n"
   ]
  },
  {
   "cell_type": "markdown",
   "metadata": {
    "deletable": false
   },
   "source": [
    "<p style=\"color:red; font-weight:bold; font-size:xx-small\">MARK: __%</p>\n",
    "<p style=\"color:red; font-weight:bold; font-size:xx-small\">FEEDBACK: </p>"
   ]
  },
  {
   "cell_type": "markdown",
   "metadata": {
    "deletable": false
   },
   "source": [
    "### Requirement FR11 - Investigate the distribution of bike shares by time of the day"
   ]
  },
  {
   "cell_type": "code",
   "execution_count": 14,
   "metadata": {},
   "outputs": [
    {
     "name": "stderr",
     "output_type": "stream",
     "text": [
      "C:\\Users\\user\\AppData\\Local\\Temp/ipykernel_12088/944229086.py:34: UserWarning: color is redundantly defined by the 'color' keyword argument and the fmt string \"-bo\" (-> color='b'). The keyword argument will take precedence.\n",
      "  plt.plot(GroupByHOUR.index,GroupByHOUR['mean'],'-bo',color='g')\n"
     ]
    },
    {
     "data": {
      "text/plain": [
       "([<matplotlib.axis.XTick at 0x26453132640>,\n",
       "  <matplotlib.axis.XTick at 0x26453132610>,\n",
       "  <matplotlib.axis.XTick at 0x2645313a940>,\n",
       "  <matplotlib.axis.XTick at 0x26453396220>,\n",
       "  <matplotlib.axis.XTick at 0x26453396970>,\n",
       "  <matplotlib.axis.XTick at 0x26453393100>,\n",
       "  <matplotlib.axis.XTick at 0x26453393850>,\n",
       "  <matplotlib.axis.XTick at 0x264533880a0>,\n",
       "  <matplotlib.axis.XTick at 0x264533933d0>,\n",
       "  <matplotlib.axis.XTick at 0x264533a6eb0>,\n",
       "  <matplotlib.axis.XTick at 0x264533887c0>,\n",
       "  <matplotlib.axis.XTick at 0x26453388f10>,\n",
       "  <matplotlib.axis.XTick at 0x2645338f6a0>,\n",
       "  <matplotlib.axis.XTick at 0x2645338fdf0>,\n",
       "  <matplotlib.axis.XTick at 0x2645338fe20>,\n",
       "  <matplotlib.axis.XTick at 0x26453388a90>,\n",
       "  <matplotlib.axis.XTick at 0x264533938b0>,\n",
       "  <matplotlib.axis.XTick at 0x26453143a90>,\n",
       "  <matplotlib.axis.XTick at 0x2645314b220>,\n",
       "  <matplotlib.axis.XTick at 0x2645314b970>,\n",
       "  <matplotlib.axis.XTick at 0x26453151100>,\n",
       "  <matplotlib.axis.XTick at 0x2645314b940>,\n",
       "  <matplotlib.axis.XTick at 0x264533930d0>,\n",
       "  <matplotlib.axis.XTick at 0x26453151610>],\n",
       " [Text(0, 0, ''),\n",
       "  Text(0, 0, ''),\n",
       "  Text(0, 0, ''),\n",
       "  Text(0, 0, ''),\n",
       "  Text(0, 0, ''),\n",
       "  Text(0, 0, ''),\n",
       "  Text(0, 0, ''),\n",
       "  Text(0, 0, ''),\n",
       "  Text(0, 0, ''),\n",
       "  Text(0, 0, ''),\n",
       "  Text(0, 0, ''),\n",
       "  Text(0, 0, ''),\n",
       "  Text(0, 0, ''),\n",
       "  Text(0, 0, ''),\n",
       "  Text(0, 0, ''),\n",
       "  Text(0, 0, ''),\n",
       "  Text(0, 0, ''),\n",
       "  Text(0, 0, ''),\n",
       "  Text(0, 0, ''),\n",
       "  Text(0, 0, ''),\n",
       "  Text(0, 0, ''),\n",
       "  Text(0, 0, ''),\n",
       "  Text(0, 0, ''),\n",
       "  Text(0, 0, '')])"
      ]
     },
     "execution_count": 14,
     "metadata": {},
     "output_type": "execute_result"
    },
    {
     "data": {
      "image/png": "[encoded data removed]",
      "text/plain": [
       "<Figure size 432x288 with 1 Axes>"
      ]
     },
     "metadata": {
      "needs_background": "light"
     },
     "output_type": "display_data"
    }
   ],
   "source": [
    "# add code here\n",
    "\n",
    "import pandas as pd\n",
    "import numpy as np\n",
    "import seaborn as sns\n",
    "import matplotlib.pyplot as plt\n",
    "import statsmodels.formula.api as smf\n",
    "import datetime\n",
    "\n",
    "# to convert the items in 'Timestamp' dataframe to datetime format with Pandas for easy manipulation\n",
    "task2merge_df['timestamp'] = pd.to_datetime(task2merge_df['timestamp'])  #convert timestamp to dateTime function   \n",
    "task2merge_df\n",
    "\n",
    "#From the formated dataframe, create new columns for Hour, Day, month and year that would group the data for ease in visualising the data properly. It takes all the elements identified and extracts the identified element in the DateTime. The analysis is used for the subsequent questions below.\n",
    "# This helps with the understanding that the company should be be highly staffed at this point such that they can support customers that are in need of service\n",
    "\n",
    "task2merge_df['Hour'] = task2merge_df['timestamp'].apply(lambda time: time.hour)\n",
    "task2merge_df['Month'] = task2merge_df['timestamp'].apply(lambda time: time.month)\n",
    "task2merge_df['Day_of_Week'] = task2merge_df['timestamp'].apply(lambda time: time.dayofweek)\n",
    "task2merge_df['Year'] = task2merge_df['timestamp'].apply(lambda t: t.year)\n",
    "task2merge_df['Date'] = task2merge_df['timestamp'].apply(lambda t: t.day)\n",
    "\n",
    "task2merge_df\n",
    "\n",
    "# Define Group By Hour as a variable. This is the actual answer to Question 1\n",
    "GroupByHOUR=task2merge_df.groupby('Hour')\n",
    "GroupByHOUR=GroupByHOUR['new_bike_shares'].describe()\n",
    "\n",
    "GroupByHOUR=pd.DataFrame(GroupByHOUR)\n",
    "\n",
    "#GroupByHOUR=GroupByHOUR.reset_index()\n",
    "\n",
    "GroupByHOUR \n",
    "\n",
    "# Plot a line graph to see the distribution \n",
    "plt.plot(GroupByHOUR.index,GroupByHOUR['mean'],'-bo',color='g')\n",
    "plt.title(\"Average distribution of bike shares by time of the day\")\n",
    "plt.ylabel('Average distribution of bike shares ')\n",
    "plt.xlabel('HOUR')\n",
    "plt.xticks(np.arange(0, 24)) \n",
    "\n",
    "# The result is created by the taking the mean of all occurence within the specific timeframe. The graph explains that bike shares happens at peak period i.e 8.00AM and between 6:00PM and 7:00PM"
   ]
  },
  {
   "cell_type": "markdown",
   "metadata": {
    "deletable": false
   },
   "source": [
    "<p style=\"color:red; font-weight:bold; font-size:xx-small\">MARK: __%</p>\n",
    "<p style=\"color:red; font-weight:bold; font-size:xx-small\">FEEDBACK: </p>"
   ]
  },
  {
   "cell_type": "markdown",
   "metadata": {
    "deletable": false
   },
   "source": [
    "### Requirement FR12 - Compare the distribution of bike shares by time of the week"
   ]
  },
  {
   "cell_type": "code",
   "execution_count": 15,
   "metadata": {},
   "outputs": [
    {
     "name": "stderr",
     "output_type": "stream",
     "text": [
      "C:\\Users\\user\\AppData\\Local\\Temp/ipykernel_12088/2748116209.py:11: UserWarning: color is redundantly defined by the 'color' keyword argument and the fmt string \"-bo\" (-> color='b'). The keyword argument will take precedence.\n",
      "  plt.plot(GroupByweekday.index,GroupByweekday['mean'],'-bo',color='b')\n"
     ]
    },
    {
     "data": {
      "text/plain": [
       "Text(0.5, 0, 'days_of _week')"
      ]
     },
     "execution_count": 15,
     "metadata": {},
     "output_type": "execute_result"
    },
    {
     "data": {
      "image/png": "[encoded data removed]",
      "text/plain": [
       "<Figure size 432x288 with 1 Axes>"
      ]
     },
     "metadata": {
      "needs_background": "light"
     },
     "output_type": "display_data"
    }
   ],
   "source": [
    "# Make use of the Group data created above to define the week data for analysis. It can be seen that the bike share takes place the most on second day of the week which is the is point 1 in the graph. The idea is to deploy resources more to this day much more than other days.\n",
    "GroupByweekday=task2merge_df.groupby('Day_of_Week')\n",
    "GroupByweekday=GroupByweekday['new_bike_shares'].describe()\n",
    "\n",
    "GroupByweekday=pd.DataFrame(GroupByweekday)\n",
    "\n",
    "#GroupByHOUR=GroupByHOUR.reset_index()\n",
    "\n",
    "GroupByweekday\n",
    "\n",
    "# Plot a line graph to see the distribution during the week\n",
    "plt.plot(GroupByweekday.index,GroupByweekday['mean'],'-bo',color='b')\n",
    "plt.title(\"Average distribution of bike shares by days of the week\")\n",
    "plt.ylabel('Average distribution of bike shares ')\n",
    "plt.xlabel('days_of _week')"
   ]
  },
  {
   "cell_type": "markdown",
   "metadata": {
    "deletable": false
   },
   "source": [
    "<p style=\"color:red; font-weight:bold; font-size:xx-small\">MARK: __%</p>\n",
    "<p style=\"color:red; font-weight:bold; font-size:xx-small\">FEEDBACK: </p>"
   ]
  },
  {
   "cell_type": "markdown",
   "metadata": {
    "deletable": false
   },
   "source": [
    "### Requirement FR13 - Investigate the effects of “feels like” temperature on the number of bike shares"
   ]
  },
  {
   "cell_type": "code",
   "execution_count": 16,
   "metadata": {},
   "outputs": [
    {
     "data": {
      "text/plain": [
       "Text(0.5, 1.0, 'linear Fits for correlation between the “feels_like_temp” temperature and the number of bike shares')"
      ]
     },
     "execution_count": 16,
     "metadata": {},
     "output_type": "execute_result"
    },
    {
     "data": {
      "image/png": "[encoded data removed]",
      "text/plain": [
       "<Figure size 360x360 with 1 Axes>"
      ]
     },
     "metadata": {
      "needs_background": "light"
     },
     "output_type": "display_data"
    }
   ],
   "source": [
    "# This helps to check the correlation between temperature and the number of bikeshare. It helps to explain what drives bike share\n",
    "# Also the mean value is used to get the idea of avaerage value\n",
    "Itask2merge_df=task2merge_df[[\"feels_like_temp\",\"new_bike_shares\"]]\n",
    "GItask2merge_df=Itask2merge_df.groupby('feels_like_temp').mean()\n",
    "\n",
    "GItask2merge_df=pd.DataFrame(GItask2merge_df, columns=['new_bike_shares'])\n",
    "\n",
    "GItask2merge_df=GItask2merge_df.reset_index()\n",
    "\n",
    "GItask2merge_df\n",
    "%matplotlib inline\n",
    "\n",
    "# Test for interraction between feels_like_temp and number of bike shares \n",
    "sns.lmplot(y='new_bike_shares',x='feels_like_temp',data=GItask2merge_df)\n",
    "plt.title(\"linear Fits for correlation between the “feels_like_temp” temperature and the number of bike shares\")\n",
    "\n",
    "# The scatter plot explains that there is a positive correlation between temperature and the number of bikeshare. The higher the temperature the more likely that individuals will share bikes. "
   ]
  },
  {
   "cell_type": "markdown",
   "metadata": {
    "deletable": false
   },
   "source": [
    "<p style=\"color:red; font-weight:bold; font-size:xx-small\">MARK: __%</p>\n",
    "<p style=\"color:red; font-weight:bold; font-size:xx-small\">FEEDBACK: </p>"
   ]
  },
  {
   "cell_type": "markdown",
   "metadata": {
    "deletable": false
   },
   "source": [
    "### Requirement FR14 - Test the hypothesis that “feels like” temperature has an effect on the number of bike shares"
   ]
  },
  {
   "cell_type": "code",
   "execution_count": 17,
   "metadata": {},
   "outputs": [
    {
     "name": "stdout",
     "output_type": "stream",
     "text": [
      "                            OLS Regression Results                            \n",
      "==============================================================================\n",
      "Dep. Variable:        new_bike_shares   R-squared:                       0.786\n",
      "Model:                            OLS   Adj. R-squared:                  0.783\n",
      "Method:                 Least Squares   F-statistic:                     293.8\n",
      "Date:                Tue, 10 May 2022   Prob (F-statistic):           1.65e-28\n",
      "Time:                        13:03:22   Log-Likelihood:                -611.69\n",
      "No. Observations:                  82   AIC:                             1227.\n",
      "Df Residuals:                      80   BIC:                             1232.\n",
      "Df Model:                           1                                         \n",
      "Covariance Type:            nonrobust                                         \n",
      "===================================================================================\n",
      "                      coef    std err          t      P>|t|      [0.025      0.975]\n",
      "-----------------------------------------------------------------------------------\n",
      "Intercept         522.4724     73.392      7.119      0.000     376.417     668.528\n",
      "feels_like_temp    69.2586      4.041     17.140      0.000      61.217      77.300\n",
      "==============================================================================\n",
      "Omnibus:                       19.349   Durbin-Watson:                   1.307\n",
      "Prob(Omnibus):                  0.000   Jarque-Bera (JB):               43.889\n",
      "Skew:                           0.766   Prob(JB):                     2.95e-10\n",
      "Kurtosis:                       6.240   Cond. No.                         28.4\n",
      "==============================================================================\n",
      "\n",
      "Notes:\n",
      "[1] Standard Errors assume that the covariance matrix of the errors is correctly specified.\n"
     ]
    }
   ],
   "source": [
    "# The stat model is a convenience interface for specifying linear models using formula strings and DataFrames. It  gives the summary of all the elements needed to explain the relationship between variables.\n",
    "reg_mod = smf.ols(formula='new_bike_shares ~ feels_like_temp', data=GItask2merge_df).fit() # Fit regression model (using the natural log of one of the regressors)\n",
    "print(reg_mod.summary())\n",
    "# the summary gives a precise definition of the line of best fit "
   ]
  },
  {
   "cell_type": "markdown",
   "metadata": {
    "deletable": false
   },
   "source": [
    "<p style=\"color:red; font-weight:bold; font-size:xx-small\">MARK: __%</p>\n",
    "<p style=\"color:red; font-weight:bold; font-size:xx-small\">FEEDBACK: </p>"
   ]
  },
  {
   "cell_type": "markdown",
   "metadata": {
    "deletable": false
   },
   "source": [
    "# Coding Standards\n",
    "<p style=\"color:red; font-weight:bold; font-size:xx-small\">MARK: __%</p>\n",
    "<p style=\"color:red; font-weight:bold; font-size:xx-small\">FEEDBACK: </p>"
   ]
  },
  {
   "cell_type": "markdown",
   "metadata": {},
   "source": [
    "# Process Development Report for Programming Task 2\n"
   ]
  },
  {
   "cell_type": "markdown",
   "metadata": {},
   "source": [
    "The entire project in task 2 was to task our ability to develop codes to read actual data. It tests the steps involved in analysis data in real life situation. \n",
    "Prior to the commencement of the course, I had limited knowledge in python, but had extensive knowledge in Microsoft Excel. Based on my intterraction with Python on analysis, I can fully describe the steps and process taken to analyse results whereby I can explain simple steps like filter, sort etc.\n",
    "Moreso, it provides more flexibility in defining interractive data and also further automating or animating the visualisations with libraries.\n",
    "More specifically on the tasks given, I would be highlighting the steps involved and the results given in the last step.\n",
    "\n",
    "FR9 is directed at reading files from two locations and merging, it is usually to read the file using pandas as a library to pick the file. It is usually best practice to place the file in the folder where the result would be dumped such that it is easily picked from another computer, Alternatively it could be picked from the internet. On the merger, I decided to merrge on what is common to both files which in this case is 'timestamp'. Timestamp is the intersection in both files and also to place the report side by side. It should be noted that in reality, the file size may not be the same in terms of length or the start period may not be the same, it would therefore be ideal for sort and filter and then trim to have the exact size of data.\n",
    "\n",
    "FR10 required that I cleaned the data. Data cleaning is usually required to remove redundancies and leave data that is relevant to the analysis. In this case, I cjecked if there was any null data in the set as well as I dropped any 'Nan' row so that the data can be analysed easily. Also, I dropped season code which is not relevant in the analysis and as specified in the question. The next stage is to select the bike shares that are more than 20 and it is considered that some any share less that 20 is not relevant to the question. For the most part, it would be great to select relevant data set. Less than 20 value woulf further reduce the meanof the values and would reduce the actual data meaning. In this case it is very crucial to tak low values.\n",
    "\n",
    "Before conducting any analysis, I created the space for importing the libraries that would be used for the assignment.\n",
    "\n",
    "FR11 was at investigating the distribution of bike shares by time of the day. This is necessary to know how to deploy resources in a realife situation. In the course of the task, while plotting the graph the points came out not appealing. It was necessary to group the data as specified above. The first step was to format the date time and then to seperate the datetime component to the year, month, week, day etc such that each element would be used in the course of the assignement and then, group the data by the Hour of the day such that I could see specifically what is happening during each hour. In plotting the graph, I had to apply the mean of the figures so that I can get the possible vaule per hour. In  the case of working for a company, it helps to know how to deplpy resources based on the hour of the day and no one is stranded with time. From the graph you can tell that the highest bake share happens during peak period, which is most likely when workers are rushing to work or getting back home. I.e 8:00AM, 6:00PM and 7:00PM.\n",
    "\n",
    "F12 deals with comparing the distribution of bike shares by time of the week. As defined above, I grouped the data by week so that I can tell which day of the week has the highest bike share. In this case, you can tell that the second day which is Monday has the highest bikeshare, it is not far-fetched, workers prefer to share bike on peak period which falls on Mondays. This helps the Management to direct resources adequately to maximise profit enough staff to support customers as well as not loose on high demands should there be a need. Also to reduce slack during low peak.  So also, I took the mean values to plot line graph. In addtion to that, I grouped the graph based on the week that was obtained in FR11\n",
    "\n",
    "FR13 there are cases when you need to understand the key driver of human behavior in which case, you plot a scatter diagram to identify the relationship between two variables. One can conclude that temperature drives the number of bike shares positively, implying that there is a positive correlation between the variables, i.e, the higher the temperature, the higher the number of bikes that would be recorded. Also, I plotted the line of best fit. I made use of Seaborn to plot the graph and Matplotlib to label the diagram.\n",
    "\n",
    "FR14 Test the hypothesis that feels like temperature has an effect on the number of bike shares. The result tests the hypothesis. My hypothesis would be that feels like temperature has a significant correlations. From the table Dependent Variable is ‘new_bike_shares,’ the library makes use of OLS known as Ordinary Least Squares. The R-squared is possibly the most important measurement to help with the hypothesis. R-squared is the measurement of how much of the independent variable (feels like temperture) is explained by changes in our dependent variables (new bike shares). In percentage terms, 0.786 would mean the model explains 78.6% of the change in ‘new bike shares’ variable. P value of 0.000 for (feels like temperture) is saying there is a 100.0% chance the feels_like_temperture variable has effect on the dependent variable, new_bike_shares, and the results are not produced by chance.\n",
    "\n",
    "In summary, I can categorically say that I have learnt a great deal from the sessions of lectures in data visualisation maling use of the import libraries\n",
    "\n",
    "References\n",
    "Seabold, Skipper, and Josef Perktold. “statsmodels: Econometric and statistical modeling with python.” Proceedings of the 9th Python in Science Conference. 2010.\n",
    "Panda Development team 2008-2022, Created using Sphinx 4.5.0."
   ]
  },
  {
   "cell_type": "markdown",
   "metadata": {},
   "source": [
    "<p style=\"color:red; font-weight:bold; font-size:xx-small\">MARK: __%</p>\n",
    "<p style=\"color:red; font-weight:bold; font-size:xx-small\">FEEDBACK: </p>"
   ]
  },
  {
   "cell_type": "code",
   "execution_count": null,
   "metadata": {},
   "outputs": [],
   "source": []
  }
 ],
 "metadata": {
  "kernelspec": {
   "display_name": "Python 3 (ipykernel)",
   "language": "python",
   "name": "python3"
  },
  "language_info": {
   "codemirror_mode": {
    "name": "ipython",
    "version": 3
   },
   "file_extension": ".py",
   "mimetype": "text/x-python",
   "name": "python",
   "nbconvert_exporter": "python",
   "pygments_lexer": "ipython3",
   "version": "3.9.7"
  }
 },
 "nbformat": 4,
 "nbformat_minor": 4
}
